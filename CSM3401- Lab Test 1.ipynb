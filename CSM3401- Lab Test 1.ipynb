{
 "cells": [
  {
   "cell_type": "code",
   "execution_count": 67,
   "metadata": {},
   "outputs": [
    {
     "name": "stdout",
     "output_type": "stream",
     "text": [
      "Enter Input Number : 24\n",
      "2\n"
     ]
    }
   ],
   "source": [
    "def TotalBits( n): \n",
    "    if (n == 0): \n",
    "        return 0\n",
    "    else: \n",
    "        return (n&1) + TotalBits(n>>1) \n",
    "n = int(input(\"Enter Input Number : \"))\n",
    "print(TotalBits(n))      "
   ]
  },
  {
   "cell_type": "code",
   "execution_count": 45,
   "metadata": {},
   "outputs": [
    {
     "name": "stdout",
     "output_type": "stream",
     "text": [
      "what is your dream car for 10 years later? mohammad faahiz\n",
      "('a', 4)\n"
     ]
    }
   ],
   "source": [
    "import collections\n",
    "a = input(\"Enter Your brother/ sister name\")\n",
    "print(collections.Counter(a).most_common(1)[0])"
   ]
  },
  {
   "cell_type": "code",
   "execution_count": 49,
   "metadata": {},
   "outputs": [
    {
     "name": "stdout",
     "output_type": "stream",
     "text": [
      "Enter your full name : farah naabila\n",
      "The number of words in string are : 2\n"
     ]
    }
   ],
   "source": [
    "test_string = input(\"Enter your full name : \")\n",
    "result = len(test_string.split()) \n",
    "\n",
    "print (\"The number of words in string are : \" +  str(result)) "
   ]
  },
  {
   "cell_type": "code",
   "execution_count": 55,
   "metadata": {},
   "outputs": [],
   "source": [
    "def minusTwoNum(d,a):\n",
    "    return d-a\n",
    "\n",
    "def myName():\n",
    "    print(\"Farah Naabila\")\n",
    "    myName()\n",
    "    \n",
    "argumented_minusTwoNum=print_arguments\n"
   ]
  },
  {
   "cell_type": "code",
   "execution_count": 64,
   "metadata": {},
   "outputs": [
    {
     "name": "stdout",
     "output_type": "stream",
     "text": [
      "Total Sum of Two Number \n",
      "\n",
      "Enter Your Birth Year : 1999\n",
      "Enter Your Birth Month : 7\n",
      "Sum of two numbers (year and month) is :  2006\n"
     ]
    }
   ],
   "source": [
    "print('Total Sum of Two Number \\n')\n",
    "def sumTwoNum():\n",
    "    firstNum = input(\"Enter Your Birth Year : \")\n",
    "    secondNum = input(\"Enter Your Birth Month : \")\n",
    "    total = int(firstNum) + int(secondNum)\n",
    "    return total\n",
    "\n",
    "sum = sumTwoNum()\n",
    "print(\"Sum of two numbers (year and month) is : \", sum)"
   ]
  },
  {
   "cell_type": "code",
   "execution_count": 76,
   "metadata": {},
   "outputs": [
    {
     "name": "stdout",
     "output_type": "stream",
     "text": [
      "20 2.0\n"
     ]
    }
   ],
   "source": [
    "def productDivide(f, n, m):\n",
    "    a = f*n\n",
    "    b = f/m\n",
    "    \n",
    "    print(a, b)\n",
    "    \n",
    "productDivide(10, 2, 5)"
   ]
  },
  {
   "cell_type": "code",
   "execution_count": null,
   "metadata": {},
   "outputs": [],
   "source": []
  }
 ],
 "metadata": {
  "kernelspec": {
   "display_name": "Python 3",
   "language": "python",
   "name": "python3"
  },
  "language_info": {
   "codemirror_mode": {
    "name": "ipython",
    "version": 3
   },
   "file_extension": ".py",
   "mimetype": "text/x-python",
   "name": "python",
   "nbconvert_exporter": "python",
   "pygments_lexer": "ipython3",
   "version": "3.8.5"
  }
 },
 "nbformat": 4,
 "nbformat_minor": 4
}
